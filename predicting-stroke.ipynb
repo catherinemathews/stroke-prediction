{
 "cells": [
  {
   "cell_type": "markdown",
   "id": "abe08cfc",
   "metadata": {
    "papermill": {
     "duration": 0.018807,
     "end_time": "2022-07-21T03:25:20.543300",
     "exception": false,
     "start_time": "2022-07-21T03:25:20.524493",
     "status": "completed"
    },
    "tags": []
   },
   "source": [
    "# Stroke Prediction\n",
    "In this project, I will perform explanatory data analysis on the Stroke Prediction Dataset from Kaggle and train a model to predict whether a patient is likely to experience a stroke based on several factors, such as gender, age, bmi, and more. \n",
    "\n",
    "The outline for the project is as follows:\n",
    "1. Import Libraries & Dataset\n",
    "2. Exploratory Data Analysis (EDA)\n",
    "3. Data Preprocessing for Model\n",
    "4. Model Creation\n",
    "5. Results"
   ]
  },
  {
   "cell_type": "markdown",
   "id": "01704591",
   "metadata": {
    "papermill": {
     "duration": 0.018003,
     "end_time": "2022-07-21T03:25:20.579299",
     "exception": false,
     "start_time": "2022-07-21T03:25:20.561296",
     "status": "completed"
    },
    "tags": []
   },
   "source": [
    "## Import Libraries & Dataset"
   ]
  },
  {
   "cell_type": "code",
   "execution_count": 1,
   "id": "59c94b04",
   "metadata": {
    "execution": {
     "iopub.execute_input": "2022-07-21T03:25:20.617041Z",
     "iopub.status.busy": "2022-07-21T03:25:20.616596Z",
     "iopub.status.idle": "2022-07-21T03:25:22.298976Z",
     "shell.execute_reply": "2022-07-21T03:25:22.297810Z"
    },
    "papermill": {
     "duration": 1.70489,
     "end_time": "2022-07-21T03:25:22.301920",
     "exception": false,
     "start_time": "2022-07-21T03:25:20.597030",
     "status": "completed"
    },
    "tags": []
   },
   "outputs": [],
   "source": [
    "import pandas as pd\n",
    "import numpy as np\n",
    "import matplotlib.pyplot as plt\n",
    "import seaborn as sns\n",
    "\n",
    "from sklearn import preprocessing\n",
    "from sklearn.preprocessing import StandardScaler\n",
    "from imblearn.over_sampling import SMOTE\n",
    "from sklearn.model_selection import train_test_split\n",
    "from sklearn.metrics import accuracy_score\n",
    "from sklearn.metrics import recall_score, confusion_matrix, precision_score, f1_score, classification_report\n",
    "from sklearn.linear_model import LogisticRegression\n",
    "from sklearn.ensemble import RandomForestClassifier\n",
    "from sklearn.ensemble import AdaBoostClassifier\n",
    "from sklearn.ensemble import GradientBoostingClassifier\n",
    "from sklearn.neighbors import KNeighborsClassifier"
   ]
  },
  {
   "cell_type": "code",
   "execution_count": 2,
   "id": "96bead88",
   "metadata": {
    "execution": {
     "iopub.execute_input": "2022-07-21T03:25:22.343024Z",
     "iopub.status.busy": "2022-07-21T03:25:22.342501Z",
     "iopub.status.idle": "2022-07-21T03:25:22.406303Z",
     "shell.execute_reply": "2022-07-21T03:25:22.405319Z"
    },
    "papermill": {
     "duration": 0.087619,
     "end_time": "2022-07-21T03:25:22.409277",
     "exception": false,
     "start_time": "2022-07-21T03:25:22.321658",
     "status": "completed"
    },
    "tags": []
   },
   "outputs": [
    {
     "name": "stdout",
     "output_type": "stream",
     "text": [
      "<class 'pandas.core.frame.DataFrame'>\n",
      "RangeIndex: 5110 entries, 0 to 5109\n",
      "Data columns (total 12 columns):\n",
      " #   Column             Non-Null Count  Dtype  \n",
      "---  ------             --------------  -----  \n",
      " 0   id                 5110 non-null   int64  \n",
      " 1   gender             5110 non-null   object \n",
      " 2   age                5110 non-null   float64\n",
      " 3   hypertension       5110 non-null   int64  \n",
      " 4   heart_disease      5110 non-null   int64  \n",
      " 5   ever_married       5110 non-null   object \n",
      " 6   work_type          5110 non-null   object \n",
      " 7   Residence_type     5110 non-null   object \n",
      " 8   avg_glucose_level  5110 non-null   float64\n",
      " 9   bmi                4909 non-null   float64\n",
      " 10  smoking_status     5110 non-null   object \n",
      " 11  stroke             5110 non-null   int64  \n",
      "dtypes: float64(3), int64(4), object(5)\n",
      "memory usage: 479.2+ KB\n"
     ]
    }
   ],
   "source": [
    "data = pd.read_csv('../input/stroke-prediction-dataset/healthcare-dataset-stroke-data.csv')\n",
    "data.info()"
   ]
  },
  {
   "cell_type": "markdown",
   "id": "7f3962f8",
   "metadata": {
    "papermill": {
     "duration": 0.017753,
     "end_time": "2022-07-21T03:25:22.445529",
     "exception": false,
     "start_time": "2022-07-21T03:25:22.427776",
     "status": "completed"
    },
    "tags": []
   },
   "source": [
    "## Exploratory Data Analysis "
   ]
  },
  {
   "cell_type": "code",
   "execution_count": 3,
   "id": "8b93a670",
   "metadata": {
    "execution": {
     "iopub.execute_input": "2022-07-21T03:25:22.484042Z",
     "iopub.status.busy": "2022-07-21T03:25:22.483090Z",
     "iopub.status.idle": "2022-07-21T03:25:22.510669Z",
     "shell.execute_reply": "2022-07-21T03:25:22.509058Z"
    },
    "papermill": {
     "duration": 0.049423,
     "end_time": "2022-07-21T03:25:22.513187",
     "exception": false,
     "start_time": "2022-07-21T03:25:22.463764",
     "status": "completed"
    },
    "tags": []
   },
   "outputs": [
    {
     "data": {
      "text/html": [
       "<div>\n",
       "<style scoped>\n",
       "    .dataframe tbody tr th:only-of-type {\n",
       "        vertical-align: middle;\n",
       "    }\n",
       "\n",
       "    .dataframe tbody tr th {\n",
       "        vertical-align: top;\n",
       "    }\n",
       "\n",
       "    .dataframe thead th {\n",
       "        text-align: right;\n",
       "    }\n",
       "</style>\n",
       "<table border=\"1\" class=\"dataframe\">\n",
       "  <thead>\n",
       "    <tr style=\"text-align: right;\">\n",
       "      <th></th>\n",
       "      <th>id</th>\n",
       "      <th>gender</th>\n",
       "      <th>age</th>\n",
       "      <th>hypertension</th>\n",
       "      <th>heart_disease</th>\n",
       "      <th>ever_married</th>\n",
       "      <th>work_type</th>\n",
       "      <th>Residence_type</th>\n",
       "      <th>avg_glucose_level</th>\n",
       "      <th>bmi</th>\n",
       "      <th>smoking_status</th>\n",
       "      <th>stroke</th>\n",
       "    </tr>\n",
       "  </thead>\n",
       "  <tbody>\n",
       "    <tr>\n",
       "      <th>0</th>\n",
       "      <td>9046</td>\n",
       "      <td>Male</td>\n",
       "      <td>67.0</td>\n",
       "      <td>0</td>\n",
       "      <td>1</td>\n",
       "      <td>Yes</td>\n",
       "      <td>Private</td>\n",
       "      <td>Urban</td>\n",
       "      <td>228.69</td>\n",
       "      <td>36.6</td>\n",
       "      <td>formerly smoked</td>\n",
       "      <td>1</td>\n",
       "    </tr>\n",
       "    <tr>\n",
       "      <th>1</th>\n",
       "      <td>51676</td>\n",
       "      <td>Female</td>\n",
       "      <td>61.0</td>\n",
       "      <td>0</td>\n",
       "      <td>0</td>\n",
       "      <td>Yes</td>\n",
       "      <td>Self-employed</td>\n",
       "      <td>Rural</td>\n",
       "      <td>202.21</td>\n",
       "      <td>NaN</td>\n",
       "      <td>never smoked</td>\n",
       "      <td>1</td>\n",
       "    </tr>\n",
       "    <tr>\n",
       "      <th>2</th>\n",
       "      <td>31112</td>\n",
       "      <td>Male</td>\n",
       "      <td>80.0</td>\n",
       "      <td>0</td>\n",
       "      <td>1</td>\n",
       "      <td>Yes</td>\n",
       "      <td>Private</td>\n",
       "      <td>Rural</td>\n",
       "      <td>105.92</td>\n",
       "      <td>32.5</td>\n",
       "      <td>never smoked</td>\n",
       "      <td>1</td>\n",
       "    </tr>\n",
       "    <tr>\n",
       "      <th>3</th>\n",
       "      <td>60182</td>\n",
       "      <td>Female</td>\n",
       "      <td>49.0</td>\n",
       "      <td>0</td>\n",
       "      <td>0</td>\n",
       "      <td>Yes</td>\n",
       "      <td>Private</td>\n",
       "      <td>Urban</td>\n",
       "      <td>171.23</td>\n",
       "      <td>34.4</td>\n",
       "      <td>smokes</td>\n",
       "      <td>1</td>\n",
       "    </tr>\n",
       "    <tr>\n",
       "      <th>4</th>\n",
       "      <td>1665</td>\n",
       "      <td>Female</td>\n",
       "      <td>79.0</td>\n",
       "      <td>1</td>\n",
       "      <td>0</td>\n",
       "      <td>Yes</td>\n",
       "      <td>Self-employed</td>\n",
       "      <td>Rural</td>\n",
       "      <td>174.12</td>\n",
       "      <td>24.0</td>\n",
       "      <td>never smoked</td>\n",
       "      <td>1</td>\n",
       "    </tr>\n",
       "  </tbody>\n",
       "</table>\n",
       "</div>"
      ],
      "text/plain": [
       "      id  gender   age  hypertension  heart_disease ever_married  \\\n",
       "0   9046    Male  67.0             0              1          Yes   \n",
       "1  51676  Female  61.0             0              0          Yes   \n",
       "2  31112    Male  80.0             0              1          Yes   \n",
       "3  60182  Female  49.0             0              0          Yes   \n",
       "4   1665  Female  79.0             1              0          Yes   \n",
       "\n",
       "       work_type Residence_type  avg_glucose_level   bmi   smoking_status  \\\n",
       "0        Private          Urban             228.69  36.6  formerly smoked   \n",
       "1  Self-employed          Rural             202.21   NaN     never smoked   \n",
       "2        Private          Rural             105.92  32.5     never smoked   \n",
       "3        Private          Urban             171.23  34.4           smokes   \n",
       "4  Self-employed          Rural             174.12  24.0     never smoked   \n",
       "\n",
       "   stroke  \n",
       "0       1  \n",
       "1       1  \n",
       "2       1  \n",
       "3       1  \n",
       "4       1  "
      ]
     },
     "execution_count": 3,
     "metadata": {},
     "output_type": "execute_result"
    }
   ],
   "source": [
    "data.head(5)"
   ]
  },
  {
   "cell_type": "markdown",
   "id": "cc9ee893",
   "metadata": {
    "papermill": {
     "duration": 0.016571,
     "end_time": "2022-07-21T03:25:22.547710",
     "exception": false,
     "start_time": "2022-07-21T03:25:22.531139",
     "status": "completed"
    },
    "tags": []
   },
   "source": [
    "Using the head function, we observe that there are 11 fields available to determine a patient's likelihood of stroke. These fields are id, gender, age, hypertension, heart_disease, ever_married, work_type, Residence_type, avg_glucose_level, bmi, and smoking_status. Because the id field is likely a patient identifier, we can assume it not does relate to the possibility of stroke and can thus drop the field. "
   ]
  },
  {
   "cell_type": "code",
   "execution_count": 4,
   "id": "5f152a46",
   "metadata": {
    "execution": {
     "iopub.execute_input": "2022-07-21T03:25:22.584909Z",
     "iopub.status.busy": "2022-07-21T03:25:22.584320Z",
     "iopub.status.idle": "2022-07-21T03:25:22.590947Z",
     "shell.execute_reply": "2022-07-21T03:25:22.590281Z"
    },
    "papermill": {
     "duration": 0.027325,
     "end_time": "2022-07-21T03:25:22.592548",
     "exception": false,
     "start_time": "2022-07-21T03:25:22.565223",
     "status": "completed"
    },
    "tags": []
   },
   "outputs": [],
   "source": [
    "data.drop(['id'], axis=1, inplace = True)"
   ]
  },
  {
   "cell_type": "code",
   "execution_count": 5,
   "id": "4a494162",
   "metadata": {
    "execution": {
     "iopub.execute_input": "2022-07-21T03:25:22.614880Z",
     "iopub.status.busy": "2022-07-21T03:25:22.614541Z",
     "iopub.status.idle": "2022-07-21T03:25:22.625540Z",
     "shell.execute_reply": "2022-07-21T03:25:22.624270Z"
    },
    "papermill": {
     "duration": 0.024014,
     "end_time": "2022-07-21T03:25:22.627162",
     "exception": false,
     "start_time": "2022-07-21T03:25:22.603148",
     "status": "completed"
    },
    "tags": []
   },
   "outputs": [
    {
     "data": {
      "text/plain": [
       "gender                 0\n",
       "age                    0\n",
       "hypertension           0\n",
       "heart_disease          0\n",
       "ever_married           0\n",
       "work_type              0\n",
       "Residence_type         0\n",
       "avg_glucose_level      0\n",
       "bmi                  201\n",
       "smoking_status         0\n",
       "stroke                 0\n",
       "dtype: int64"
      ]
     },
     "execution_count": 5,
     "metadata": {},
     "output_type": "execute_result"
    }
   ],
   "source": [
    "data.isnull().sum()"
   ]
  },
  {
   "cell_type": "markdown",
   "id": "f7098ce4",
   "metadata": {
    "papermill": {
     "duration": 0.010705,
     "end_time": "2022-07-21T03:25:22.648754",
     "exception": false,
     "start_time": "2022-07-21T03:25:22.638049",
     "status": "completed"
    },
    "tags": []
   },
   "source": [
    "We observe that there are 201 null values in the bmi column. In order to fix this and increase consistency, we can replace these null values with the average bmi value."
   ]
  },
  {
   "cell_type": "code",
   "execution_count": 6,
   "id": "cdb24136",
   "metadata": {
    "execution": {
     "iopub.execute_input": "2022-07-21T03:25:22.673475Z",
     "iopub.status.busy": "2022-07-21T03:25:22.672873Z",
     "iopub.status.idle": "2022-07-21T03:25:22.678565Z",
     "shell.execute_reply": "2022-07-21T03:25:22.677733Z"
    },
    "papermill": {
     "duration": 0.019853,
     "end_time": "2022-07-21T03:25:22.680299",
     "exception": false,
     "start_time": "2022-07-21T03:25:22.660446",
     "status": "completed"
    },
    "tags": []
   },
   "outputs": [],
   "source": [
    "avg_bmi = data['bmi'].mean()\n",
    "data['bmi'].fillna(avg_bmi,inplace=True)"
   ]
  },
  {
   "cell_type": "code",
   "execution_count": 7,
   "id": "cfed45bc",
   "metadata": {
    "execution": {
     "iopub.execute_input": "2022-07-21T03:25:22.705010Z",
     "iopub.status.busy": "2022-07-21T03:25:22.704398Z",
     "iopub.status.idle": "2022-07-21T03:25:22.715531Z",
     "shell.execute_reply": "2022-07-21T03:25:22.714695Z"
    },
    "papermill": {
     "duration": 0.026104,
     "end_time": "2022-07-21T03:25:22.717555",
     "exception": false,
     "start_time": "2022-07-21T03:25:22.691451",
     "status": "completed"
    },
    "tags": []
   },
   "outputs": [
    {
     "data": {
      "text/plain": [
       "gender               0\n",
       "age                  0\n",
       "hypertension         0\n",
       "heart_disease        0\n",
       "ever_married         0\n",
       "work_type            0\n",
       "Residence_type       0\n",
       "avg_glucose_level    0\n",
       "bmi                  0\n",
       "smoking_status       0\n",
       "stroke               0\n",
       "dtype: int64"
      ]
     },
     "execution_count": 7,
     "metadata": {},
     "output_type": "execute_result"
    }
   ],
   "source": [
    "data.isnull().sum()"
   ]
  },
  {
   "cell_type": "markdown",
   "id": "38b6fa09",
   "metadata": {
    "papermill": {
     "duration": 0.01742,
     "end_time": "2022-07-21T03:25:22.752591",
     "exception": false,
     "start_time": "2022-07-21T03:25:22.735171",
     "status": "completed"
    },
    "tags": []
   },
   "source": [
    "Now that all null values are taken care of, we can now analyze each variable individually."
   ]
  },
  {
   "cell_type": "code",
   "execution_count": 8,
   "id": "4551b592",
   "metadata": {
    "execution": {
     "iopub.execute_input": "2022-07-21T03:25:22.791316Z",
     "iopub.status.busy": "2022-07-21T03:25:22.790927Z",
     "iopub.status.idle": "2022-07-21T03:25:22.953297Z",
     "shell.execute_reply": "2022-07-21T03:25:22.952528Z"
    },
    "papermill": {
     "duration": 0.185133,
     "end_time": "2022-07-21T03:25:22.955838",
     "exception": false,
     "start_time": "2022-07-21T03:25:22.770705",
     "status": "completed"
    },
    "tags": []
   },
   "outputs": [
    {
     "data": {
      "image/png": "[encoded data removed]",
      "text/plain": [
       "<Figure size 432x288 with 1 Axes>"
      ]
     },
     "metadata": {
      "needs_background": "light"
     },
     "output_type": "display_data"
    },
    {
     "name": "stdout",
     "output_type": "stream",
     "text": [
      "Percentage of Females:  0.5859099804305283\n",
      "Percentage of Males:  0.41389432485322897\n",
      "Percentage of Other:  0.00019569471624266145\n"
     ]
    }
   ],
   "source": [
    "fig = plt.figure()\n",
    "ax = fig.add_axes([0,0,1,1])\n",
    "gender = [\"Female\", \"Male\", \"Other\"]\n",
    "x = data[\"gender\"].value_counts()['Female']\n",
    "y = data[\"gender\"].value_counts()['Male']\n",
    "z = data[\"gender\"].value_counts()['Other']\n",
    "counts = [x, y, z]\n",
    "ax.bar(gender, counts)\n",
    "plt.title(\"Gender Distribution\")\n",
    "plt.show()\n",
    "\n",
    "print(\"Percentage of Females: \", x /(x+y+z))\n",
    "print(\"Percentage of Males: \", y /(x+y+z))\n",
    "print(\"Percentage of Other: \", z /(x+y+z))"
   ]
  },
  {
   "cell_type": "markdown",
   "id": "d7709b27",
   "metadata": {
    "papermill": {
     "duration": 0.018768,
     "end_time": "2022-07-21T03:25:22.993879",
     "exception": false,
     "start_time": "2022-07-21T03:25:22.975111",
     "status": "completed"
    },
    "tags": []
   },
   "source": [
    "From the histogram, we can see that there is a greater amount of female patients than male patients in the dataset, and almost no patients in the gender category of \"other\". In particular, 58.59% of the dataset is made up of females, 41.39% is made up of males, and 0.02% is made up of other genders."
   ]
  },
  {
   "cell_type": "code",
   "execution_count": 9,
   "id": "d4569804",
   "metadata": {
    "execution": {
     "iopub.execute_input": "2022-07-21T03:25:23.034333Z",
     "iopub.status.busy": "2022-07-21T03:25:23.032746Z",
     "iopub.status.idle": "2022-07-21T03:25:23.213145Z",
     "shell.execute_reply": "2022-07-21T03:25:23.211568Z"
    },
    "papermill": {
     "duration": 0.202632,
     "end_time": "2022-07-21T03:25:23.215350",
     "exception": false,
     "start_time": "2022-07-21T03:25:23.012718",
     "status": "completed"
    },
    "tags": []
   },
   "outputs": [
    {
     "name": "stdout",
     "output_type": "stream",
     "text": [
      "Amount of Patients in Each Age Group\n",
      "Ages 0-10:  507\n",
      "Ages 10-20:  518\n",
      "Ages 20-30:  545\n",
      "Ages 30-40:  674\n",
      "Ages 40-50:  739\n",
      "Ages 50-60:  823\n",
      "Ages 60-70:  594\n",
      "Ages 70-80:  594\n",
      "Ages 80+:  116\n"
     ]
    },
    {
     "data": {
      "image/png": "[encoded data removed]",
      "text/plain": [
       "<Figure size 432x288 with 1 Axes>"
      ]
     },
     "metadata": {
      "needs_background": "light"
     },
     "output_type": "display_data"
    }
   ],
   "source": [
    "plt.hist(data[\"age\"], bins = [0, 10, 20, 30, 40, 50, 60, 70, 80])\n",
    "plt.title(\"Age Distribution\")\n",
    "\n",
    "data_age_groups = data.copy()\n",
    "def age_group(age):\n",
    "    if age >= 0:\n",
    "        if age <= 10:\n",
    "            return \"0-10\"\n",
    "        elif age <= 20:\n",
    "            return \"10-20\"\n",
    "        elif age <= 30:\n",
    "            return \"20-30\"\n",
    "        elif age <= 40:\n",
    "            return \"30-40\"\n",
    "        elif age <= 50:\n",
    "            return \"40-50\"\n",
    "        elif age <= 60:\n",
    "            return \"50-60\"\n",
    "        elif age <= 70:\n",
    "            return \"60-70\"\n",
    "        elif age <= 80:\n",
    "            return \"70-80\"\n",
    "        else:\n",
    "            return \"80+\"\n",
    "    \n",
    "data_age_groups[\"age group\"] = data_age_groups['age'].apply(age_group)\n",
    "\n",
    "print(\"Amount of Patients in Each Age Group\")\n",
    "print(\"Ages 0-10: \", data_age_groups[\"age group\"].value_counts()[\"0-10\"])\n",
    "print(\"Ages 10-20: \", data_age_groups[\"age group\"].value_counts()[\"10-20\"])\n",
    "print(\"Ages 20-30: \", data_age_groups[\"age group\"].value_counts()[\"20-30\"])\n",
    "print(\"Ages 30-40: \", data_age_groups[\"age group\"].value_counts()[\"30-40\"])\n",
    "print(\"Ages 40-50: \", data_age_groups[\"age group\"].value_counts()[\"40-50\"])\n",
    "print(\"Ages 50-60: \", data_age_groups[\"age group\"].value_counts()[\"50-60\"])\n",
    "print(\"Ages 60-70: \", data_age_groups[\"age group\"].value_counts()[\"60-70\"])\n",
    "print(\"Ages 70-80: \", data_age_groups[\"age group\"].value_counts()[\"70-80\"])\n",
    "print(\"Ages 80+: \", data_age_groups[\"age group\"].value_counts()[\"80+\"])"
   ]
  },
  {
   "cell_type": "markdown",
   "id": "0ad80d22",
   "metadata": {
    "papermill": {
     "duration": 0.011844,
     "end_time": "2022-07-21T03:25:23.239538",
     "exception": false,
     "start_time": "2022-07-21T03:25:23.227694",
     "status": "completed"
    },
    "tags": []
   },
   "source": [
    "The age distribution histogram shows that the age data is slightly skewed left, with a greater number of patients from older age groups. The statistics indicate that there are 507 patients ages 0-10, 518 patients ages 11-20, 545 patients ages 21-30, 674 patients ages 31-40, 739 patients ages 41-50, 823 patients ages 51-60, 594 patients ages 61-70, 594 patients ages 71-80, and 116 patients older than 80. Thus, the age group with the largest number of patients is the 50-60 group, followed behind by the 40-50 group."
   ]
  },
  {
   "cell_type": "code",
   "execution_count": 10,
   "id": "a40cb3eb",
   "metadata": {
    "execution": {
     "iopub.execute_input": "2022-07-21T03:25:23.265101Z",
     "iopub.status.busy": "2022-07-21T03:25:23.264754Z",
     "iopub.status.idle": "2022-07-21T03:25:23.365278Z",
     "shell.execute_reply": "2022-07-21T03:25:23.364233Z"
    },
    "papermill": {
     "duration": 0.116002,
     "end_time": "2022-07-21T03:25:23.367538",
     "exception": false,
     "start_time": "2022-07-21T03:25:23.251536",
     "status": "completed"
    },
    "tags": []
   },
   "outputs": [
    {
     "data": {
      "image/png": "[encoded data removed]",
      "text/plain": [
       "<Figure size 432x288 with 1 Axes>"
      ]
     },
     "metadata": {
      "needs_background": "light"
     },
     "output_type": "display_data"
    }
   ],
   "source": [
    "fig = plt.figure()\n",
    "ax = fig.add_axes([0,0,1,1])\n",
    "values = [\"No\", \"Yes\"]\n",
    "x = data[\"hypertension\"].value_counts()[0]\n",
    "y = data[\"hypertension\"].value_counts()[1]\n",
    "counts = [x, y]\n",
    "ax.bar(values, counts)\n",
    "plt.title(\"Hypertension Distribution\")\n",
    "plt.show()"
   ]
  },
  {
   "cell_type": "markdown",
   "id": "1e5a6b53",
   "metadata": {
    "papermill": {
     "duration": 0.01535,
     "end_time": "2022-07-21T03:25:23.398757",
     "exception": false,
     "start_time": "2022-07-21T03:25:23.383407",
     "status": "completed"
    },
    "tags": []
   },
   "source": [
    "From the histogram, we can see that the amount of patients with hypertension is significantly less than those with hypertension. Based on the size of the bars, we can estimate that there are nine times more patients without hypertension than with hypertension."
   ]
  },
  {
   "cell_type": "code",
   "execution_count": 11,
   "id": "6c0d81d5",
   "metadata": {
    "execution": {
     "iopub.execute_input": "2022-07-21T03:25:23.425438Z",
     "iopub.status.busy": "2022-07-21T03:25:23.424909Z",
     "iopub.status.idle": "2022-07-21T03:25:23.529538Z",
     "shell.execute_reply": "2022-07-21T03:25:23.528720Z"
    },
    "papermill": {
     "duration": 0.119664,
     "end_time": "2022-07-21T03:25:23.532191",
     "exception": false,
     "start_time": "2022-07-21T03:25:23.412527",
     "status": "completed"
    },
    "tags": []
   },
   "outputs": [
    {
     "data": {
      "image/png": "[encoded data removed]",
      "text/plain": [
       "<Figure size 432x288 with 1 Axes>"
      ]
     },
     "metadata": {
      "needs_background": "light"
     },
     "output_type": "display_data"
    }
   ],
   "source": [
    "fig = plt.figure()\n",
    "ax = fig.add_axes([0,0,1,1])\n",
    "values = [\"No\", \"Yes\"]\n",
    "x = data[\"heart_disease\"].value_counts()[0]\n",
    "y = data[\"heart_disease\"].value_counts()[1]\n",
    "counts = [x, y]\n",
    "ax.bar(values, counts)\n",
    "plt.title(\"Heart Disease Distribution\")\n",
    "plt.show()"
   ]
  },
  {
   "cell_type": "markdown",
   "id": "97c5c114",
   "metadata": {
    "papermill": {
     "duration": 0.017374,
     "end_time": "2022-07-21T03:25:23.566721",
     "exception": false,
     "start_time": "2022-07-21T03:25:23.549347",
     "status": "completed"
    },
    "tags": []
   },
   "source": [
    "Similarly to the hypertension distribution, it is clear that there are substantially more patients without heart disease than with heart disease in the dataset."
   ]
  },
  {
   "cell_type": "code",
   "execution_count": 12,
   "id": "6e2e097d",
   "metadata": {
    "execution": {
     "iopub.execute_input": "2022-07-21T03:25:23.594411Z",
     "iopub.status.busy": "2022-07-21T03:25:23.593608Z",
     "iopub.status.idle": "2022-07-21T03:25:23.709973Z",
     "shell.execute_reply": "2022-07-21T03:25:23.709207Z"
    },
    "papermill": {
     "duration": 0.133702,
     "end_time": "2022-07-21T03:25:23.713265",
     "exception": false,
     "start_time": "2022-07-21T03:25:23.579563",
     "status": "completed"
    },
    "tags": []
   },
   "outputs": [
    {
     "data": {
      "image/png": "[encoded data removed]",
      "text/plain": [
       "<Figure size 432x288 with 1 Axes>"
      ]
     },
     "metadata": {
      "needs_background": "light"
     },
     "output_type": "display_data"
    },
    {
     "name": "stdout",
     "output_type": "stream",
     "text": [
      "Amount of Patients who have been married:  1757\n",
      "Amount of Patients who have been never married:  3353\n"
     ]
    }
   ],
   "source": [
    "fig = plt.figure()\n",
    "ax = fig.add_axes([0,0,1,1])\n",
    "values = [\"No\", \"Yes\"]\n",
    "x = data[\"ever_married\"].value_counts()[0]\n",
    "y = data[\"ever_married\"].value_counts()[1]\n",
    "counts = [x, y]\n",
    "ax.bar(values, counts)\n",
    "plt.title(\"Marriage Status Distribution\")\n",
    "plt.show()\n",
    "print(\"Amount of Patients who have been married: \", y)\n",
    "print(\"Amount of Patients who have been never married: \", x)"
   ]
  },
  {
   "cell_type": "markdown",
   "id": "20ae2769",
   "metadata": {
    "papermill": {
     "duration": 0.013983,
     "end_time": "2022-07-21T03:25:23.746291",
     "exception": false,
     "start_time": "2022-07-21T03:25:23.732308",
     "status": "completed"
    },
    "tags": []
   },
   "source": [
    "In terms of marriage status, the histogram indicates that the amount of patients who have been married is slightly more than half of the amount of patients who have never been married. Particularly,the amount of patients who have been married is 1757 and the amount of patients who have never been married is 3353."
   ]
  },
  {
   "cell_type": "code",
   "execution_count": 13,
   "id": "6d833f4c",
   "metadata": {
    "execution": {
     "iopub.execute_input": "2022-07-21T03:25:23.783203Z",
     "iopub.status.busy": "2022-07-21T03:25:23.782413Z",
     "iopub.status.idle": "2022-07-21T03:25:23.917707Z",
     "shell.execute_reply": "2022-07-21T03:25:23.916909Z"
    },
    "papermill": {
     "duration": 0.160394,
     "end_time": "2022-07-21T03:25:23.919982",
     "exception": false,
     "start_time": "2022-07-21T03:25:23.759588",
     "status": "completed"
    },
    "tags": []
   },
   "outputs": [
    {
     "name": "stdout",
     "output_type": "stream",
     "text": [
      "Private:  2925\n",
      "Self Employed:  819\n",
      "Government Job:  657\n",
      "Children:  687\n",
      "Never Worked:  22\n"
     ]
    },
    {
     "data": {
      "image/png": "[encoded data removed]",
      "text/plain": [
       "<Figure size 432x288 with 1 Axes>"
      ]
     },
     "metadata": {
      "needs_background": "light"
     },
     "output_type": "display_data"
    }
   ],
   "source": [
    "plt.hist(data[\"work_type\"])\n",
    "plt.title(\"Type of Work Distribution\")\n",
    "\n",
    "private = data[\"work_type\"].value_counts()[\"Private\"]\n",
    "self_employed = data[\"work_type\"].value_counts()[\"Self-employed\"]\n",
    "govt_job = data[\"work_type\"].value_counts()[\"Govt_job\"]\n",
    "children = data[\"work_type\"].value_counts()[\"children\"]\n",
    "never_worked = data[\"work_type\"].value_counts()[\"Never_worked\"]\n",
    "\n",
    "print(\"Private: \", private)\n",
    "print(\"Self Employed: \", self_employed)\n",
    "print(\"Government Job: \", govt_job)\n",
    "print(\"Children: \", children)\n",
    "print(\"Never Worked: \", never_worked)"
   ]
  },
  {
   "cell_type": "markdown",
   "id": "c35a3dc3",
   "metadata": {
    "papermill": {
     "duration": 0.021639,
     "end_time": "2022-07-21T03:25:23.965019",
     "exception": false,
     "start_time": "2022-07-21T03:25:23.943380",
     "status": "completed"
    },
    "tags": []
   },
   "source": [
    "Of the patients in the dataset, there is the greatest amount of patients with a private work type and the least amount of patients with no work experience. In fact, 2925 patients have a private work type, whereas 22 patients have never worked. In between the two extremes, there are 819 self-employed patients, 687 patients with children, and 657 patients with government jobs."
   ]
  },
  {
   "cell_type": "code",
   "execution_count": 14,
   "id": "88c736c4",
   "metadata": {
    "execution": {
     "iopub.execute_input": "2022-07-21T03:25:24.009071Z",
     "iopub.status.busy": "2022-07-21T03:25:24.008445Z",
     "iopub.status.idle": "2022-07-21T03:25:24.109277Z",
     "shell.execute_reply": "2022-07-21T03:25:24.108516Z"
    },
    "papermill": {
     "duration": 0.125595,
     "end_time": "2022-07-21T03:25:24.111765",
     "exception": false,
     "start_time": "2022-07-21T03:25:23.986170",
     "status": "completed"
    },
    "tags": []
   },
   "outputs": [
    {
     "data": {
      "image/png": "[encoded data removed]",
      "text/plain": [
       "<Figure size 432x288 with 1 Axes>"
      ]
     },
     "metadata": {
      "needs_background": "light"
     },
     "output_type": "display_data"
    }
   ],
   "source": [
    "fig = plt.figure()\n",
    "ax = fig.add_axes([0,0,1,1])\n",
    "values = [\"Rural\", \"Urban\"]\n",
    "x = data[\"Residence_type\"].value_counts()[\"Rural\"]\n",
    "y = data[\"Residence_type\"].value_counts()[\"Urban\"]\n",
    "counts = [x, y]\n",
    "ax.bar(values, counts)\n",
    "plt.title(\"Type of Residence Distribution\")\n",
    "plt.show()"
   ]
  },
  {
   "cell_type": "markdown",
   "id": "702399de",
   "metadata": {
    "papermill": {
     "duration": 0.022305,
     "end_time": "2022-07-21T03:25:24.159536",
     "exception": false,
     "start_time": "2022-07-21T03:25:24.137231",
     "status": "completed"
    },
    "tags": []
   },
   "source": [
    "The amount of patients that reside in rural areas seems to be roughly equal to the amount of patients that reside in urban areas, with those in urban areas being slightly greater."
   ]
  },
  {
   "cell_type": "code",
   "execution_count": 15,
   "id": "e1052102",
   "metadata": {
    "execution": {
     "iopub.execute_input": "2022-07-21T03:25:24.187145Z",
     "iopub.status.busy": "2022-07-21T03:25:24.186608Z",
     "iopub.status.idle": "2022-07-21T03:25:24.307682Z",
     "shell.execute_reply": "2022-07-21T03:25:24.306676Z"
    },
    "papermill": {
     "duration": 0.137709,
     "end_time": "2022-07-21T03:25:24.310149",
     "exception": false,
     "start_time": "2022-07-21T03:25:24.172440",
     "status": "completed"
    },
    "tags": []
   },
   "outputs": [
    {
     "data": {
      "text/plain": [
       "Text(0.5, 1.0, 'Smoking Status Distribution')"
      ]
     },
     "execution_count": 15,
     "metadata": {},
     "output_type": "execute_result"
    },
    {
     "data": {
      "image/png": "[encoded data removed]",
      "text/plain": [
       "<Figure size 432x288 with 1 Axes>"
      ]
     },
     "metadata": {
      "needs_background": "light"
     },
     "output_type": "display_data"
    }
   ],
   "source": [
    "plt.hist(data[\"smoking_status\"])\n",
    "plt.title(\"Smoking Status Distribution\")"
   ]
  },
  {
   "cell_type": "markdown",
   "id": "d21b0644",
   "metadata": {
    "papermill": {
     "duration": 0.012336,
     "end_time": "2022-07-21T03:25:24.347793",
     "exception": false,
     "start_time": "2022-07-21T03:25:24.335457",
     "status": "completed"
    },
    "tags": []
   },
   "source": [
    "Of the patients whose smoking status is known, the greatest amount are those who have never smoked, with lesser but similar amounts of patients that have either formerly or currently smoke. There is also a substantial amount of patients with an unknown smoking status."
   ]
  },
  {
   "cell_type": "code",
   "execution_count": 16,
   "id": "726e68f1",
   "metadata": {
    "execution": {
     "iopub.execute_input": "2022-07-21T03:25:24.386035Z",
     "iopub.status.busy": "2022-07-21T03:25:24.385752Z",
     "iopub.status.idle": "2022-07-21T03:25:24.699388Z",
     "shell.execute_reply": "2022-07-21T03:25:24.698112Z"
    },
    "papermill": {
     "duration": 0.339292,
     "end_time": "2022-07-21T03:25:24.701771",
     "exception": false,
     "start_time": "2022-07-21T03:25:24.362479",
     "status": "completed"
    },
    "tags": []
   },
   "outputs": [
    {
     "name": "stderr",
     "output_type": "stream",
     "text": [
      "/opt/conda/lib/python3.7/site-packages/seaborn/distributions.py:2619: FutureWarning: `distplot` is a deprecated function and will be removed in a future version. Please adapt your code to use either `displot` (a figure-level function with similar flexibility) or `histplot` (an axes-level function for histograms).\n",
      "  warnings.warn(msg, FutureWarning)\n"
     ]
    },
    {
     "name": "stdout",
     "output_type": "stream",
     "text": [
      "Median:  91.88499999999999\n",
      "Mean:  106.1476771037182\n"
     ]
    },
    {
     "data": {
      "image/png": "[encoded data removed]",
      "text/plain": [
       "<Figure size 432x288 with 1 Axes>"
      ]
     },
     "metadata": {
      "needs_background": "light"
     },
     "output_type": "display_data"
    }
   ],
   "source": [
    "sns.distplot(data['avg_glucose_level']).set(title=\"Average Glucose Level Distribution\")\n",
    "plt.axvline(x=data.avg_glucose_level.median(), color='red')\n",
    "print(\"Median: \", data.avg_glucose_level.median())\n",
    "\n",
    "print(\"Mean: \", data.avg_glucose_level.mean())"
   ]
  },
  {
   "cell_type": "markdown",
   "id": "cc8ff2bb",
   "metadata": {
    "papermill": {
     "duration": 0.020813,
     "end_time": "2022-07-21T03:25:24.743761",
     "exception": false,
     "start_time": "2022-07-21T03:25:24.722948",
     "status": "completed"
    },
    "tags": []
   },
   "source": [
    "The average glucose level distribution is skewed right, with a major peak around roughly 80 and a smaller peak around 210. The median of the average glucose levels of the patients is 91.88, and the mean is 106.14."
   ]
  },
  {
   "cell_type": "code",
   "execution_count": 17,
   "id": "4fb3c006",
   "metadata": {
    "execution": {
     "iopub.execute_input": "2022-07-21T03:25:24.787236Z",
     "iopub.status.busy": "2022-07-21T03:25:24.786937Z",
     "iopub.status.idle": "2022-07-21T03:25:25.099565Z",
     "shell.execute_reply": "2022-07-21T03:25:25.097984Z"
    },
    "papermill": {
     "duration": 0.337283,
     "end_time": "2022-07-21T03:25:25.102450",
     "exception": false,
     "start_time": "2022-07-21T03:25:24.765167",
     "status": "completed"
    },
    "tags": []
   },
   "outputs": [
    {
     "name": "stderr",
     "output_type": "stream",
     "text": [
      "/opt/conda/lib/python3.7/site-packages/seaborn/distributions.py:2619: FutureWarning: `distplot` is a deprecated function and will be removed in a future version. Please adapt your code to use either `displot` (a figure-level function with similar flexibility) or `histplot` (an axes-level function for histograms).\n",
      "  warnings.warn(msg, FutureWarning)\n"
     ]
    },
    {
     "name": "stdout",
     "output_type": "stream",
     "text": [
      "Median:  28.4\n"
     ]
    },
    {
     "data": {
      "image/png": "[encoded data removed]",
      "text/plain": [
       "<Figure size 432x288 with 1 Axes>"
      ]
     },
     "metadata": {
      "needs_background": "light"
     },
     "output_type": "display_data"
    }
   ],
   "source": [
    "sns.distplot(data['bmi']).set(title=\"BMI Distribution\")\n",
    "plt.axvline(x=data.bmi.median(), color='red')\n",
    "print(\"Median: \", data.bmi.median())\n"
   ]
  },
  {
   "cell_type": "markdown",
   "id": "c022873e",
   "metadata": {
    "papermill": {
     "duration": 0.022752,
     "end_time": "2022-07-21T03:25:25.148118",
     "exception": false,
     "start_time": "2022-07-21T03:25:25.125366",
     "status": "completed"
    },
    "tags": []
   },
   "source": [
    "The bmi distribution is skewed right, with a majority of patients have a bmi between 20 and 40. The median of the distribution is 28.4 and aligns with the only peak."
   ]
  },
  {
   "cell_type": "markdown",
   "id": "5853645a",
   "metadata": {
    "papermill": {
     "duration": 0.021784,
     "end_time": "2022-07-21T03:25:25.193178",
     "exception": false,
     "start_time": "2022-07-21T03:25:25.171394",
     "status": "completed"
    },
    "tags": []
   },
   "source": [
    "Next, we can observe the relationship between each variable and the likelihood of stroke."
   ]
  },
  {
   "cell_type": "code",
   "execution_count": 18,
   "id": "80c4c094",
   "metadata": {
    "execution": {
     "iopub.execute_input": "2022-07-21T03:25:25.239381Z",
     "iopub.status.busy": "2022-07-21T03:25:25.239031Z",
     "iopub.status.idle": "2022-07-21T03:25:25.407292Z",
     "shell.execute_reply": "2022-07-21T03:25:25.406296Z"
    },
    "papermill": {
     "duration": 0.194081,
     "end_time": "2022-07-21T03:25:25.409519",
     "exception": false,
     "start_time": "2022-07-21T03:25:25.215438",
     "status": "completed"
    },
    "tags": []
   },
   "outputs": [
    {
     "data": {
      "text/plain": [
       "[Text(0.5, 1.0, 'Stroke Distribution by Gender')]"
      ]
     },
     "execution_count": 18,
     "metadata": {},
     "output_type": "execute_result"
    },
    {
     "data": {
      "image/png": "[encoded data removed]",
      "text/plain": [
       "<Figure size 432x288 with 1 Axes>"
      ]
     },
     "metadata": {
      "needs_background": "light"
     },
     "output_type": "display_data"
    }
   ],
   "source": [
    "sns.countplot(data=data, x='gender', hue='stroke').set(title=\"Stroke Distribution by Gender\")"
   ]
  },
  {
   "cell_type": "markdown",
   "id": "0631eb9a",
   "metadata": {
    "papermill": {
     "duration": 0.02095,
     "end_time": "2022-07-21T03:25:25.452165",
     "exception": false,
     "start_time": "2022-07-21T03:25:25.431215",
     "status": "completed"
    },
    "tags": []
   },
   "source": [
    "From the histogram, we can see that a very small portion of both males and females in the dataset experienced stroke. Although the amount of patients of each gender varies, it seems that the amount of those who experienced stroke in both genders is about the same. "
   ]
  },
  {
   "cell_type": "code",
   "execution_count": 19,
   "id": "1fae5e7b",
   "metadata": {
    "execution": {
     "iopub.execute_input": "2022-07-21T03:25:25.497341Z",
     "iopub.status.busy": "2022-07-21T03:25:25.497013Z",
     "iopub.status.idle": "2022-07-21T03:25:25.636748Z",
     "shell.execute_reply": "2022-07-21T03:25:25.636039Z"
    },
    "papermill": {
     "duration": 0.164661,
     "end_time": "2022-07-21T03:25:25.638814",
     "exception": false,
     "start_time": "2022-07-21T03:25:25.474153",
     "status": "completed"
    },
    "tags": []
   },
   "outputs": [
    {
     "data": {
      "text/plain": [
       "[Text(0.5, 1.0, 'Stroke Distribution by Hypertension')]"
      ]
     },
     "execution_count": 19,
     "metadata": {},
     "output_type": "execute_result"
    },
    {
     "data": {
      "image/png": "[encoded data removed]",
      "text/plain": [
       "<Figure size 432x288 with 1 Axes>"
      ]
     },
     "metadata": {
      "needs_background": "light"
     },
     "output_type": "display_data"
    }
   ],
   "source": [
    "sns.countplot(data=data, x='hypertension', hue='stroke').set(title=\"Stroke Distribution by Hypertension\")"
   ]
  },
  {
   "cell_type": "markdown",
   "id": "0863e39a",
   "metadata": {
    "papermill": {
     "duration": 0.023521,
     "end_time": "2022-07-21T03:25:25.678759",
     "exception": false,
     "start_time": "2022-07-21T03:25:25.655238",
     "status": "completed"
    },
    "tags": []
   },
   "source": [
    "We can observe that patients that did not suffer from hypertension had a larger number of stroke cases than those that did have hypertension."
   ]
  },
  {
   "cell_type": "code",
   "execution_count": 20,
   "id": "9f8e76a1",
   "metadata": {
    "execution": {
     "iopub.execute_input": "2022-07-21T03:25:25.727399Z",
     "iopub.status.busy": "2022-07-21T03:25:25.726131Z",
     "iopub.status.idle": "2022-07-21T03:25:25.983785Z",
     "shell.execute_reply": "2022-07-21T03:25:25.982630Z"
    },
    "papermill": {
     "duration": 0.28463,
     "end_time": "2022-07-21T03:25:25.986400",
     "exception": false,
     "start_time": "2022-07-21T03:25:25.701770",
     "status": "completed"
    },
    "tags": []
   },
   "outputs": [
    {
     "data": {
      "text/plain": [
       "[Text(0.5, 1.0, 'Stroke Distribution by Heart Disease')]"
      ]
     },
     "execution_count": 20,
     "metadata": {},
     "output_type": "execute_result"
    },
    {
     "data": {
      "image/png": "[encoded data removed]",
      "text/plain": [
       "<Figure size 432x288 with 1 Axes>"
      ]
     },
     "metadata": {
      "needs_background": "light"
     },
     "output_type": "display_data"
    }
   ],
   "source": [
    "sns.countplot(data=data, x='heart_disease', hue='stroke').set(title=\"Stroke Distribution by Heart Disease\")"
   ]
  },
  {
   "cell_type": "markdown",
   "id": "10c40553",
   "metadata": {
    "papermill": {
     "duration": 0.014728,
     "end_time": "2022-07-21T03:25:26.021570",
     "exception": false,
     "start_time": "2022-07-21T03:25:26.006842",
     "status": "completed"
    },
    "tags": []
   },
   "source": [
    "As can be seen above, there were sizably more patients that experienced a stroke and didn't have heart disease than those who had both. "
   ]
  },
  {
   "cell_type": "code",
   "execution_count": 21,
   "id": "1d7220bd",
   "metadata": {
    "execution": {
     "iopub.execute_input": "2022-07-21T03:25:26.073305Z",
     "iopub.status.busy": "2022-07-21T03:25:26.072713Z",
     "iopub.status.idle": "2022-07-21T03:25:26.225565Z",
     "shell.execute_reply": "2022-07-21T03:25:26.224473Z"
    },
    "papermill": {
     "duration": 0.179969,
     "end_time": "2022-07-21T03:25:26.227726",
     "exception": false,
     "start_time": "2022-07-21T03:25:26.047757",
     "status": "completed"
    },
    "tags": []
   },
   "outputs": [
    {
     "data": {
      "text/plain": [
       "[Text(0.5, 1.0, 'Stroke Distribution by Marriage Status')]"
      ]
     },
     "execution_count": 21,
     "metadata": {},
     "output_type": "execute_result"
    },
    {
     "data": {
      "image/png": "[encoded data removed]",
      "text/plain": [
       "<Figure size 432x288 with 1 Axes>"
      ]
     },
     "metadata": {
      "needs_background": "light"
     },
     "output_type": "display_data"
    }
   ],
   "source": [
    "sns.countplot(data=data, x='ever_married', hue='stroke').set(title=\"Stroke Distribution by Marriage Status\")"
   ]
  },
  {
   "cell_type": "markdown",
   "id": "83e4c1b7",
   "metadata": {
    "papermill": {
     "duration": 0.014257,
     "end_time": "2022-07-21T03:25:26.256488",
     "exception": false,
     "start_time": "2022-07-21T03:25:26.242231",
     "status": "completed"
    },
    "tags": []
   },
   "source": [
    "The histogram indicates that a greater amount of patients that were married experienced stroke than those that were not married."
   ]
  },
  {
   "cell_type": "code",
   "execution_count": 22,
   "id": "aaf5bfe1",
   "metadata": {
    "execution": {
     "iopub.execute_input": "2022-07-21T03:25:26.287692Z",
     "iopub.status.busy": "2022-07-21T03:25:26.287312Z",
     "iopub.status.idle": "2022-07-21T03:25:26.474947Z",
     "shell.execute_reply": "2022-07-21T03:25:26.473914Z"
    },
    "papermill": {
     "duration": 0.20581,
     "end_time": "2022-07-21T03:25:26.477042",
     "exception": false,
     "start_time": "2022-07-21T03:25:26.271232",
     "status": "completed"
    },
    "tags": []
   },
   "outputs": [
    {
     "data": {
      "text/plain": [
       "[Text(0.5, 1.0, 'Stroke Distribution by Work Type')]"
      ]
     },
     "execution_count": 22,
     "metadata": {},
     "output_type": "execute_result"
    },
    {
     "data": {
      "image/png": "[encoded data removed]",
      "text/plain": [
       "<Figure size 432x288 with 1 Axes>"
      ]
     },
     "metadata": {
      "needs_background": "light"
     },
     "output_type": "display_data"
    }
   ],
   "source": [
    "sns.countplot(data=data, x='work_type', hue='stroke').set(title=\"Stroke Distribution by Work Type\")"
   ]
  },
  {
   "cell_type": "markdown",
   "id": "9e8a4d90",
   "metadata": {
    "papermill": {
     "duration": 0.022467,
     "end_time": "2022-07-21T03:25:26.523086",
     "exception": false,
     "start_time": "2022-07-21T03:25:26.500619",
     "status": "completed"
    },
    "tags": []
   },
   "source": [
    "Most of the patients who experienced strokes worked in private jobs. "
   ]
  },
  {
   "cell_type": "code",
   "execution_count": 23,
   "id": "407059b2",
   "metadata": {
    "execution": {
     "iopub.execute_input": "2022-07-21T03:25:26.570800Z",
     "iopub.status.busy": "2022-07-21T03:25:26.570308Z",
     "iopub.status.idle": "2022-07-21T03:25:26.700848Z",
     "shell.execute_reply": "2022-07-21T03:25:26.700124Z"
    },
    "papermill": {
     "duration": 0.156421,
     "end_time": "2022-07-21T03:25:26.702707",
     "exception": false,
     "start_time": "2022-07-21T03:25:26.546286",
     "status": "completed"
    },
    "tags": []
   },
   "outputs": [
    {
     "data": {
      "text/plain": [
       "[Text(0.5, 1.0, 'Stroke Distribution by Residence Type')]"
      ]
     },
     "execution_count": 23,
     "metadata": {},
     "output_type": "execute_result"
    },
    {
     "data": {
      "image/png": "[encoded data removed]",
      "text/plain": [
       "<Figure size 432x288 with 1 Axes>"
      ]
     },
     "metadata": {
      "needs_background": "light"
     },
     "output_type": "display_data"
    }
   ],
   "source": [
    "sns.countplot(data=data, x='Residence_type', hue='stroke').set(title=\"Stroke Distribution by Residence Type\")"
   ]
  },
  {
   "cell_type": "markdown",
   "id": "e90e879a",
   "metadata": {
    "papermill": {
     "duration": 0.015966,
     "end_time": "2022-07-21T03:25:26.738652",
     "exception": false,
     "start_time": "2022-07-21T03:25:26.722686",
     "status": "completed"
    },
    "tags": []
   },
   "source": [
    "There appears to be a similar amount of patients from both urban and rural areas that experienced stroke."
   ]
  },
  {
   "cell_type": "code",
   "execution_count": 24,
   "id": "08cd0967",
   "metadata": {
    "execution": {
     "iopub.execute_input": "2022-07-21T03:25:26.770512Z",
     "iopub.status.busy": "2022-07-21T03:25:26.770030Z",
     "iopub.status.idle": "2022-07-21T03:25:26.930018Z",
     "shell.execute_reply": "2022-07-21T03:25:26.928914Z"
    },
    "papermill": {
     "duration": 0.178487,
     "end_time": "2022-07-21T03:25:26.932348",
     "exception": false,
     "start_time": "2022-07-21T03:25:26.753861",
     "status": "completed"
    },
    "tags": []
   },
   "outputs": [
    {
     "data": {
      "text/plain": [
       "[Text(0.5, 1.0, 'Stroke Distribution by Smoking Status')]"
      ]
     },
     "execution_count": 24,
     "metadata": {},
     "output_type": "execute_result"
    },
    {
     "data": {
      "image/png": "[encoded data removed]",
      "text/plain": [
       "<Figure size 432x288 with 1 Axes>"
      ]
     },
     "metadata": {
      "needs_background": "light"
     },
     "output_type": "display_data"
    }
   ],
   "source": [
    "sns.countplot(data=data, x='stroke', hue='smoking_status').set(title=\"Stroke Distribution by Smoking Status\")"
   ]
  },
  {
   "cell_type": "markdown",
   "id": "aab5a059",
   "metadata": {
    "papermill": {
     "duration": 0.023436,
     "end_time": "2022-07-21T03:25:26.980205",
     "exception": false,
     "start_time": "2022-07-21T03:25:26.956769",
     "status": "completed"
    },
    "tags": []
   },
   "source": [
    "As for smoking status, we observe that of those that experienced stroke, the largest amount is from patients that never smoked, with those that formerly stroke falling close behind. "
   ]
  },
  {
   "cell_type": "code",
   "execution_count": 25,
   "id": "18f30ca6",
   "metadata": {
    "execution": {
     "iopub.execute_input": "2022-07-21T03:25:27.030616Z",
     "iopub.status.busy": "2022-07-21T03:25:27.029766Z",
     "iopub.status.idle": "2022-07-21T03:25:33.009792Z",
     "shell.execute_reply": "2022-07-21T03:25:33.009006Z"
    },
    "papermill": {
     "duration": 6.008163,
     "end_time": "2022-07-21T03:25:33.012347",
     "exception": false,
     "start_time": "2022-07-21T03:25:27.004184",
     "status": "completed"
    },
    "tags": []
   },
   "outputs": [
    {
     "data": {
      "text/plain": [
       "<seaborn.axisgrid.PairGrid at 0x7fd652560cd0>"
      ]
     },
     "execution_count": 25,
     "metadata": {},
     "output_type": "execute_result"
    },
    {
     "data": {
      "image/png": "[encoded data removed]",
      "text/plain": [
       "<Figure size 540x540 with 12 Axes>"
      ]
     },
     "metadata": {
      "needs_background": "light"
     },
     "output_type": "display_data"
    }
   ],
   "source": [
    "sns.pairplot(data, vars=[\"age\", \"avg_glucose_level\",\"bmi\"],kind=\"reg\")"
   ]
  },
  {
   "cell_type": "markdown",
   "id": "613e4d48",
   "metadata": {
    "papermill": {
     "duration": 0.024795,
     "end_time": "2022-07-21T03:25:33.062955",
     "exception": false,
     "start_time": "2022-07-21T03:25:33.038160",
     "status": "completed"
    },
    "tags": []
   },
   "source": [
    "The pairplot indicates that there is a positive association between bmi and age, and bmi and average glucose level. "
   ]
  },
  {
   "cell_type": "markdown",
   "id": "3dc0a503",
   "metadata": {
    "papermill": {
     "duration": 0.025353,
     "end_time": "2022-07-21T03:25:33.114100",
     "exception": false,
     "start_time": "2022-07-21T03:25:33.088747",
     "status": "completed"
    },
    "tags": []
   },
   "source": [
    "## Data Preprocessing for Model"
   ]
  },
  {
   "cell_type": "code",
   "execution_count": 26,
   "id": "9110a986",
   "metadata": {
    "execution": {
     "iopub.execute_input": "2022-07-21T03:25:33.167065Z",
     "iopub.status.busy": "2022-07-21T03:25:33.166417Z",
     "iopub.status.idle": "2022-07-21T03:25:33.173893Z",
     "shell.execute_reply": "2022-07-21T03:25:33.172785Z"
    },
    "papermill": {
     "duration": 0.036999,
     "end_time": "2022-07-21T03:25:33.176501",
     "exception": false,
     "start_time": "2022-07-21T03:25:33.139502",
     "status": "completed"
    },
    "tags": []
   },
   "outputs": [
    {
     "data": {
      "text/plain": [
       "gender                object\n",
       "age                  float64\n",
       "hypertension           int64\n",
       "heart_disease          int64\n",
       "ever_married          object\n",
       "work_type             object\n",
       "Residence_type        object\n",
       "avg_glucose_level    float64\n",
       "bmi                  float64\n",
       "smoking_status        object\n",
       "stroke                 int64\n",
       "dtype: object"
      ]
     },
     "execution_count": 26,
     "metadata": {},
     "output_type": "execute_result"
    }
   ],
   "source": [
    "data.dtypes"
   ]
  },
  {
   "cell_type": "markdown",
   "id": "6b593212",
   "metadata": {
    "papermill": {
     "duration": 0.025825,
     "end_time": "2022-07-21T03:25:33.230809",
     "exception": false,
     "start_time": "2022-07-21T03:25:33.204984",
     "status": "completed"
    },
    "tags": []
   },
   "source": [
    "Because gender, ever_married, and Residence_type are all of the type 'object', we can utilize the LabelEncoder to assign a unique integer to each label in these fields."
   ]
  },
  {
   "cell_type": "code",
   "execution_count": 27,
   "id": "f1004a1a",
   "metadata": {
    "execution": {
     "iopub.execute_input": "2022-07-21T03:25:33.286739Z",
     "iopub.status.busy": "2022-07-21T03:25:33.285912Z",
     "iopub.status.idle": "2022-07-21T03:25:33.300828Z",
     "shell.execute_reply": "2022-07-21T03:25:33.299907Z"
    },
    "papermill": {
     "duration": 0.046,
     "end_time": "2022-07-21T03:25:33.303306",
     "exception": false,
     "start_time": "2022-07-21T03:25:33.257306",
     "status": "completed"
    },
    "tags": []
   },
   "outputs": [],
   "source": [
    "encoder = preprocessing.LabelEncoder()\n",
    "data[\"gender\"] = encoder.fit_transform(data[\"gender\"])\n",
    "data[\"ever_married\"] = encoder.fit_transform(data[\"ever_married\"])\n",
    "data[\"Residence_type\"] = encoder.fit_transform(data[\"Residence_type\"])"
   ]
  },
  {
   "cell_type": "markdown",
   "id": "0c95f119",
   "metadata": {
    "papermill": {
     "duration": 0.026805,
     "end_time": "2022-07-21T03:25:33.355904",
     "exception": false,
     "start_time": "2022-07-21T03:25:33.329099",
     "status": "completed"
    },
    "tags": []
   },
   "source": [
    "Because there are multiple categories for the work_type and smoking_status field, we will use the get_dummies function to convert the data in those fields into dummy variables."
   ]
  },
  {
   "cell_type": "code",
   "execution_count": 28,
   "id": "7f8265ae",
   "metadata": {
    "execution": {
     "iopub.execute_input": "2022-07-21T03:25:33.410647Z",
     "iopub.status.busy": "2022-07-21T03:25:33.410312Z",
     "iopub.status.idle": "2022-07-21T03:25:33.435773Z",
     "shell.execute_reply": "2022-07-21T03:25:33.434920Z"
    },
    "papermill": {
     "duration": 0.054363,
     "end_time": "2022-07-21T03:25:33.437743",
     "exception": false,
     "start_time": "2022-07-21T03:25:33.383380",
     "status": "completed"
    },
    "tags": []
   },
   "outputs": [
    {
     "data": {
      "text/html": [
       "<div>\n",
       "<style scoped>\n",
       "    .dataframe tbody tr th:only-of-type {\n",
       "        vertical-align: middle;\n",
       "    }\n",
       "\n",
       "    .dataframe tbody tr th {\n",
       "        vertical-align: top;\n",
       "    }\n",
       "\n",
       "    .dataframe thead th {\n",
       "        text-align: right;\n",
       "    }\n",
       "</style>\n",
       "<table border=\"1\" class=\"dataframe\">\n",
       "  <thead>\n",
       "    <tr style=\"text-align: right;\">\n",
       "      <th></th>\n",
       "      <th>gender</th>\n",
       "      <th>age</th>\n",
       "      <th>hypertension</th>\n",
       "      <th>heart_disease</th>\n",
       "      <th>ever_married</th>\n",
       "      <th>Residence_type</th>\n",
       "      <th>avg_glucose_level</th>\n",
       "      <th>bmi</th>\n",
       "      <th>stroke</th>\n",
       "      <th>work_type_Govt_job</th>\n",
       "      <th>work_type_Never_worked</th>\n",
       "      <th>work_type_Private</th>\n",
       "      <th>work_type_Self-employed</th>\n",
       "      <th>work_type_children</th>\n",
       "      <th>smoking_status_Unknown</th>\n",
       "      <th>smoking_status_formerly smoked</th>\n",
       "      <th>smoking_status_never smoked</th>\n",
       "      <th>smoking_status_smokes</th>\n",
       "    </tr>\n",
       "  </thead>\n",
       "  <tbody>\n",
       "    <tr>\n",
       "      <th>0</th>\n",
       "      <td>1</td>\n",
       "      <td>67.0</td>\n",
       "      <td>0</td>\n",
       "      <td>1</td>\n",
       "      <td>1</td>\n",
       "      <td>1</td>\n",
       "      <td>228.69</td>\n",
       "      <td>36.600000</td>\n",
       "      <td>1</td>\n",
       "      <td>0</td>\n",
       "      <td>0</td>\n",
       "      <td>1</td>\n",
       "      <td>0</td>\n",
       "      <td>0</td>\n",
       "      <td>0</td>\n",
       "      <td>1</td>\n",
       "      <td>0</td>\n",
       "      <td>0</td>\n",
       "    </tr>\n",
       "    <tr>\n",
       "      <th>1</th>\n",
       "      <td>0</td>\n",
       "      <td>61.0</td>\n",
       "      <td>0</td>\n",
       "      <td>0</td>\n",
       "      <td>1</td>\n",
       "      <td>0</td>\n",
       "      <td>202.21</td>\n",
       "      <td>28.893237</td>\n",
       "      <td>1</td>\n",
       "      <td>0</td>\n",
       "      <td>0</td>\n",
       "      <td>0</td>\n",
       "      <td>1</td>\n",
       "      <td>0</td>\n",
       "      <td>0</td>\n",
       "      <td>0</td>\n",
       "      <td>1</td>\n",
       "      <td>0</td>\n",
       "    </tr>\n",
       "    <tr>\n",
       "      <th>2</th>\n",
       "      <td>1</td>\n",
       "      <td>80.0</td>\n",
       "      <td>0</td>\n",
       "      <td>1</td>\n",
       "      <td>1</td>\n",
       "      <td>0</td>\n",
       "      <td>105.92</td>\n",
       "      <td>32.500000</td>\n",
       "      <td>1</td>\n",
       "      <td>0</td>\n",
       "      <td>0</td>\n",
       "      <td>1</td>\n",
       "      <td>0</td>\n",
       "      <td>0</td>\n",
       "      <td>0</td>\n",
       "      <td>0</td>\n",
       "      <td>1</td>\n",
       "      <td>0</td>\n",
       "    </tr>\n",
       "    <tr>\n",
       "      <th>3</th>\n",
       "      <td>0</td>\n",
       "      <td>49.0</td>\n",
       "      <td>0</td>\n",
       "      <td>0</td>\n",
       "      <td>1</td>\n",
       "      <td>1</td>\n",
       "      <td>171.23</td>\n",
       "      <td>34.400000</td>\n",
       "      <td>1</td>\n",
       "      <td>0</td>\n",
       "      <td>0</td>\n",
       "      <td>1</td>\n",
       "      <td>0</td>\n",
       "      <td>0</td>\n",
       "      <td>0</td>\n",
       "      <td>0</td>\n",
       "      <td>0</td>\n",
       "      <td>1</td>\n",
       "    </tr>\n",
       "    <tr>\n",
       "      <th>4</th>\n",
       "      <td>0</td>\n",
       "      <td>79.0</td>\n",
       "      <td>1</td>\n",
       "      <td>0</td>\n",
       "      <td>1</td>\n",
       "      <td>0</td>\n",
       "      <td>174.12</td>\n",
       "      <td>24.000000</td>\n",
       "      <td>1</td>\n",
       "      <td>0</td>\n",
       "      <td>0</td>\n",
       "      <td>0</td>\n",
       "      <td>1</td>\n",
       "      <td>0</td>\n",
       "      <td>0</td>\n",
       "      <td>0</td>\n",
       "      <td>1</td>\n",
       "      <td>0</td>\n",
       "    </tr>\n",
       "  </tbody>\n",
       "</table>\n",
       "</div>"
      ],
      "text/plain": [
       "   gender   age  hypertension  heart_disease  ever_married  Residence_type  \\\n",
       "0       1  67.0             0              1             1               1   \n",
       "1       0  61.0             0              0             1               0   \n",
       "2       1  80.0             0              1             1               0   \n",
       "3       0  49.0             0              0             1               1   \n",
       "4       0  79.0             1              0             1               0   \n",
       "\n",
       "   avg_glucose_level        bmi  stroke  work_type_Govt_job  \\\n",
       "0             228.69  36.600000       1                   0   \n",
       "1             202.21  28.893237       1                   0   \n",
       "2             105.92  32.500000       1                   0   \n",
       "3             171.23  34.400000       1                   0   \n",
       "4             174.12  24.000000       1                   0   \n",
       "\n",
       "   work_type_Never_worked  work_type_Private  work_type_Self-employed  \\\n",
       "0                       0                  1                        0   \n",
       "1                       0                  0                        1   \n",
       "2                       0                  1                        0   \n",
       "3                       0                  1                        0   \n",
       "4                       0                  0                        1   \n",
       "\n",
       "   work_type_children  smoking_status_Unknown  smoking_status_formerly smoked  \\\n",
       "0                   0                       0                               1   \n",
       "1                   0                       0                               0   \n",
       "2                   0                       0                               0   \n",
       "3                   0                       0                               0   \n",
       "4                   0                       0                               0   \n",
       "\n",
       "   smoking_status_never smoked  smoking_status_smokes  \n",
       "0                            0                      0  \n",
       "1                            1                      0  \n",
       "2                            1                      0  \n",
       "3                            0                      1  \n",
       "4                            1                      0  "
      ]
     },
     "execution_count": 28,
     "metadata": {},
     "output_type": "execute_result"
    }
   ],
   "source": [
    "data = pd.get_dummies(data)\n",
    "data.head(5)"
   ]
  },
  {
   "cell_type": "markdown",
   "id": "0b0b22ac",
   "metadata": {
    "papermill": {
     "duration": 0.025021,
     "end_time": "2022-07-21T03:25:33.488359",
     "exception": false,
     "start_time": "2022-07-21T03:25:33.463338",
     "status": "completed"
    },
    "tags": []
   },
   "source": [
    "We will then use the SMOTE technique to replicate examples for the minority class in order to solve the existing imbalance of patients in the dataset who have and haven't experienced a stroke."
   ]
  },
  {
   "cell_type": "code",
   "execution_count": 29,
   "id": "6bd90165",
   "metadata": {
    "execution": {
     "iopub.execute_input": "2022-07-21T03:25:33.540890Z",
     "iopub.status.busy": "2022-07-21T03:25:33.540307Z",
     "iopub.status.idle": "2022-07-21T03:25:33.564182Z",
     "shell.execute_reply": "2022-07-21T03:25:33.563314Z"
    },
    "papermill": {
     "duration": 0.053259,
     "end_time": "2022-07-21T03:25:33.566873",
     "exception": false,
     "start_time": "2022-07-21T03:25:33.513614",
     "status": "completed"
    },
    "tags": []
   },
   "outputs": [],
   "source": [
    "x_vars = data.drop(columns = [\"stroke\"])\n",
    "y = data[\"stroke\"]\n",
    "\n",
    "smote = SMOTE(random_state = 101)\n",
    "x_sm, y_sm = smote.fit_resample(x_vars,y)"
   ]
  },
  {
   "cell_type": "markdown",
   "id": "41427b7a",
   "metadata": {
    "papermill": {
     "duration": 0.034717,
     "end_time": "2022-07-21T03:25:33.636029",
     "exception": false,
     "start_time": "2022-07-21T03:25:33.601312",
     "status": "completed"
    },
    "tags": []
   },
   "source": [
    "## Model Creation & Selection"
   ]
  },
  {
   "cell_type": "code",
   "execution_count": 30,
   "id": "9716ba17",
   "metadata": {
    "execution": {
     "iopub.execute_input": "2022-07-21T03:25:33.699648Z",
     "iopub.status.busy": "2022-07-21T03:25:33.699167Z",
     "iopub.status.idle": "2022-07-21T03:25:33.716136Z",
     "shell.execute_reply": "2022-07-21T03:25:33.715370Z"
    },
    "papermill": {
     "duration": 0.047341,
     "end_time": "2022-07-21T03:25:33.718427",
     "exception": false,
     "start_time": "2022-07-21T03:25:33.671086",
     "status": "completed"
    },
    "tags": []
   },
   "outputs": [],
   "source": [
    "x_train, x_test, y_train, y_test = train_test_split(x_sm, y_sm, test_size = 0.2, random_state = 42)\n",
    "scaler = StandardScaler()\n",
    "scaler.fit(x_train)\n",
    "x_train = scaler.transform(x_train)\n",
    "x_test = scaler.transform(x_test)"
   ]
  },
  {
   "cell_type": "markdown",
   "id": "cdbf8e79",
   "metadata": {
    "papermill": {
     "duration": 0.026739,
     "end_time": "2022-07-21T03:25:33.770876",
     "exception": false,
     "start_time": "2022-07-21T03:25:33.744137",
     "status": "completed"
    },
    "tags": []
   },
   "source": [
    "Given our training and testing sets, we will now try several models to see which results in the greatest accuracy. Specifically, we will try logistic regression, the RandomForest classifier, the AdaBoost classifier, the GradientBoosting classifier, and the KNeighbors classifier. "
   ]
  },
  {
   "cell_type": "code",
   "execution_count": 31,
   "id": "839f230c",
   "metadata": {
    "execution": {
     "iopub.execute_input": "2022-07-21T03:25:33.826409Z",
     "iopub.status.busy": "2022-07-21T03:25:33.825788Z",
     "iopub.status.idle": "2022-07-21T03:25:33.896791Z",
     "shell.execute_reply": "2022-07-21T03:25:33.895879Z"
    },
    "papermill": {
     "duration": 0.101107,
     "end_time": "2022-07-21T03:25:33.899228",
     "exception": false,
     "start_time": "2022-07-21T03:25:33.798121",
     "status": "completed"
    },
    "tags": []
   },
   "outputs": [
    {
     "name": "stdout",
     "output_type": "stream",
     "text": [
      "Accuracy:  0.9197943444730077\n",
      "              precision    recall  f1-score   support\n",
      "\n",
      "           0       0.89      0.96      0.92       975\n",
      "           1       0.96      0.88      0.92       970\n",
      "\n",
      "    accuracy                           0.92      1945\n",
      "   macro avg       0.92      0.92      0.92      1945\n",
      "weighted avg       0.92      0.92      0.92      1945\n",
      "\n"
     ]
    }
   ],
   "source": [
    "lreg = LogisticRegression()\n",
    "lreg.fit(x_train, y_train)\n",
    "lreg_preds = lreg.predict(x_test)\n",
    "accuracy = lreg.score(x_test, y_test)\n",
    "print(\"Accuracy: \", accuracy)\n",
    "print(classification_report(y_test, lreg_preds))"
   ]
  },
  {
   "cell_type": "code",
   "execution_count": 32,
   "id": "70646634",
   "metadata": {
    "execution": {
     "iopub.execute_input": "2022-07-21T03:25:33.970943Z",
     "iopub.status.busy": "2022-07-21T03:25:33.970492Z",
     "iopub.status.idle": "2022-07-21T03:25:34.958134Z",
     "shell.execute_reply": "2022-07-21T03:25:34.957084Z"
    },
    "papermill": {
     "duration": 1.025992,
     "end_time": "2022-07-21T03:25:34.960528",
     "exception": false,
     "start_time": "2022-07-21T03:25:33.934536",
     "status": "completed"
    },
    "tags": []
   },
   "outputs": [
    {
     "name": "stdout",
     "output_type": "stream",
     "text": [
      "Accuracy:  0.967095115681234\n"
     ]
    }
   ],
   "source": [
    "rfc = RandomForestClassifier()\n",
    "rfc.fit(x_train, y_train)\n",
    "rfc_preds = rfc.predict(x_test)\n",
    "accuracy = accuracy_score(y_test, rfc_preds)\n",
    "print(\"Accuracy: \", accuracy)"
   ]
  },
  {
   "cell_type": "code",
   "execution_count": 33,
   "id": "e09e6148",
   "metadata": {
    "execution": {
     "iopub.execute_input": "2022-07-21T03:25:35.019948Z",
     "iopub.status.busy": "2022-07-21T03:25:35.019621Z",
     "iopub.status.idle": "2022-07-21T03:25:35.467214Z",
     "shell.execute_reply": "2022-07-21T03:25:35.466468Z"
    },
    "papermill": {
     "duration": 0.480198,
     "end_time": "2022-07-21T03:25:35.469032",
     "exception": false,
     "start_time": "2022-07-21T03:25:34.988834",
     "status": "completed"
    },
    "tags": []
   },
   "outputs": [
    {
     "name": "stdout",
     "output_type": "stream",
     "text": [
      "Accuracy:  0.9131105398457584\n"
     ]
    }
   ],
   "source": [
    "abc = AdaBoostClassifier()\n",
    "abc.fit(x_train, y_train)\n",
    "abc_preds = abc.predict(x_test)\n",
    "accuracy = accuracy_score(y_test, abc_preds)\n",
    "print(\"Accuracy: \", accuracy)"
   ]
  },
  {
   "cell_type": "code",
   "execution_count": 34,
   "id": "a30a79d9",
   "metadata": {
    "execution": {
     "iopub.execute_input": "2022-07-21T03:25:35.505720Z",
     "iopub.status.busy": "2022-07-21T03:25:35.505305Z",
     "iopub.status.idle": "2022-07-21T03:25:36.574804Z",
     "shell.execute_reply": "2022-07-21T03:25:36.574127Z"
    },
    "papermill": {
     "duration": 1.090105,
     "end_time": "2022-07-21T03:25:36.576821",
     "exception": false,
     "start_time": "2022-07-21T03:25:35.486716",
     "status": "completed"
    },
    "tags": []
   },
   "outputs": [
    {
     "name": "stdout",
     "output_type": "stream",
     "text": [
      "Accuracy:  0.9131105398457584\n"
     ]
    }
   ],
   "source": [
    "gbc = GradientBoostingClassifier()\n",
    "gbc.fit(x_train, y_train)\n",
    "gbc_preds = abc.predict(x_test)\n",
    "accuracy = accuracy_score(y_test, gbc_preds)\n",
    "print(\"Accuracy: \", accuracy)"
   ]
  },
  {
   "cell_type": "code",
   "execution_count": 35,
   "id": "4d04dbcb",
   "metadata": {
    "execution": {
     "iopub.execute_input": "2022-07-21T03:25:36.634656Z",
     "iopub.status.busy": "2022-07-21T03:25:36.634343Z",
     "iopub.status.idle": "2022-07-21T03:25:36.973186Z",
     "shell.execute_reply": "2022-07-21T03:25:36.972128Z"
    },
    "papermill": {
     "duration": 0.369973,
     "end_time": "2022-07-21T03:25:36.975151",
     "exception": false,
     "start_time": "2022-07-21T03:25:36.605178",
     "status": "completed"
    },
    "tags": []
   },
   "outputs": [
    {
     "name": "stdout",
     "output_type": "stream",
     "text": [
      "Accuracy:  0.9434447300771208\n"
     ]
    }
   ],
   "source": [
    "knn = KNeighborsClassifier(n_neighbors=10)\n",
    "knn.fit(x_train, y_train)\n",
    "knn_preds = knn.predict(x_test)\n",
    "accuracy = accuracy_score(y_test, knn_preds)\n",
    "print(\"Accuracy: \", accuracy)"
   ]
  },
  {
   "cell_type": "markdown",
   "id": "f3e61021",
   "metadata": {
    "papermill": {
     "duration": 0.017113,
     "end_time": "2022-07-21T03:25:37.010435",
     "exception": false,
     "start_time": "2022-07-21T03:25:36.993322",
     "status": "completed"
    },
    "tags": []
   },
   "source": [
    "## Results\n",
    "We observe that the Random Forest Classifier results in the highest accuracy score of 96.8%, thus indicating that such a model is the most appropriate choice for determining whether a patient is likely to experience stroke."
   ]
  }
 ],
 "metadata": {
  "kernelspec": {
   "display_name": "Python 3",
   "language": "python",
   "name": "python3"
  },
  "language_info": {
   "codemirror_mode": {
    "name": "ipython",
    "version": 3
   },
   "file_extension": ".py",
   "mimetype": "text/x-python",
   "name": "python",
   "nbconvert_exporter": "python",
   "pygments_lexer": "ipython3",
   "version": "3.7.12"
  },
  "papermill": {
   "default_parameters": {},
   "duration": 28.549929,
   "end_time": "2022-07-21T03:25:38.152138",
   "environment_variables": {},
   "exception": null,
   "input_path": "__notebook__.ipynb",
   "output_path": "__notebook__.ipynb",
   "parameters": {},
   "start_time": "2022-07-21T03:25:09.602209",
   "version": "2.3.4"
  }
 },
 "nbformat": 4,
 "nbformat_minor": 5
}
